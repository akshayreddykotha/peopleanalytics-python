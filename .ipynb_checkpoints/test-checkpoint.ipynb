{
 "cells": [
  {
   "cell_type": "code",
   "execution_count": 15,
   "id": "1060d9cb",
   "metadata": {},
   "outputs": [],
   "source": [
    "# Load People Analytics data in Python\n",
    "# Data source: https://github.com/keithmcnulty/peopleanalytics-regression-book/tree/master/data\n",
    "\n",
    "import pandas as pd\n",
    "\n",
    "def get_pad(sets=['charity_donation','employee_survey','health_insurance',\n",
    "                  'job_retention','managers','politics_survey','salespeople',\n",
    "                  'soccer','sociological_data','speed_dating','ugtests'],\n",
    "            verbose=False):\n",
    "  \n",
    "  data = {}\n",
    "\n",
    "  for set in sets:\n",
    "    domain = 'https://raw.githubusercontent.com/'\n",
    "    location = 'keithmcnulty/peopleanalytics-regression-book/master/data/'\n",
    "    data[set] = pd.read_csv('{}{}{}.csv'.format(domain, location, set))\n",
    "  \n",
    "  if verbose:\n",
    "    for set in sets:\n",
    "      print('First five observations of {}.csv'.format(set))\n",
    "      print(data[set].head())\n",
    "      print('\\n\\n')\n",
    "\n",
    "  return(data)"
   ]
  },
  {
   "cell_type": "code",
   "execution_count": 16,
   "id": "bc1ddcf1",
   "metadata": {},
   "outputs": [
    {
     "name": "stdout",
     "output_type": "stream",
     "text": [
      "<class 'dict'>\n"
     ]
    }
   ],
   "source": [
    "print(type(get_pad()))"
   ]
  },
  {
   "cell_type": "code",
   "execution_count": 17,
   "id": "c60aa704",
   "metadata": {},
   "outputs": [
    {
     "name": "stdout",
     "output_type": "stream",
     "text": [
      "<class 'pandas.core.frame.DataFrame'>\n",
      "RangeIndex: 975 entries, 0 to 974\n",
      "Data columns (total 4 columns):\n",
      " #   Column  Non-Null Count  Dtype\n",
      "---  ------  --------------  -----\n",
      " 0   Yr1     975 non-null    int64\n",
      " 1   Yr2     975 non-null    int64\n",
      " 2   Yr3     975 non-null    int64\n",
      " 3   Final   975 non-null    int64\n",
      "dtypes: int64(4)\n",
      "memory usage: 30.6 KB\n"
     ]
    }
   ],
   "source": [
    "get_pad()['ugtests'].info()"
   ]
  },
  {
   "cell_type": "code",
   "execution_count": 18,
   "id": "d14c4a33",
   "metadata": {},
   "outputs": [
    {
     "data": {
      "text/plain": [
       "<module 'pytest' from '/home/jovyan/.rsm-msba/lib/python3.8/site-packages/pytest/__init__.py'>"
      ]
     },
     "execution_count": 18,
     "metadata": {},
     "output_type": "execute_result"
    }
   ],
   "source": [
    "import pytest\n",
    "pytest"
   ]
  },
  {
   "cell_type": "markdown",
   "id": "8c896fca",
   "metadata": {},
   "source": [
    "https://kiwidamien.github.io/making-a-python-package-vi-including-data-files.html\n",
    "\n",
    "https://widdowquinn.github.io/coding/update-pypi-package/"
   ]
  },
  {
   "cell_type": "markdown",
   "id": "92519099",
   "metadata": {},
   "source": [
    "HTTPError: 400 Bad Request from https://test.pypi.org/legacy/\n",
    "The description failed to render in the default format of reStructuredText. See https://test.pypi.org/help/#description-content-type for more information."
   ]
  },
  {
   "cell_type": "code",
   "execution_count": 21,
   "id": "21613de5",
   "metadata": {},
   "outputs": [],
   "source": [
    "import peopleanalyticsdata"
   ]
  },
  {
   "cell_type": "code",
   "execution_count": 23,
   "id": "9a0637bc",
   "metadata": {},
   "outputs": [
    {
     "name": "stdout",
     "output_type": "stream",
     "text": [
      "0.1.0\n"
     ]
    }
   ],
   "source": [
    "print(peopleanalyticsdata.__version__)"
   ]
  },
  {
   "cell_type": "code",
   "execution_count": 26,
   "id": "1a5ae54f",
   "metadata": {},
   "outputs": [
    {
     "data": {
      "text/plain": [
       "'/usr/bin/python3'"
      ]
     },
     "execution_count": 26,
     "metadata": {},
     "output_type": "execute_result"
    }
   ],
   "source": [
    "import sys\n",
    "sys.executable"
   ]
  },
  {
   "cell_type": "code",
   "execution_count": 28,
   "id": "1ab1ab3c",
   "metadata": {},
   "outputs": [
    {
     "data": {
      "text/plain": [
       "['/home/jovyan/git/peopleanalytics-python/peopleanalyticsdata']"
      ]
     },
     "execution_count": 28,
     "metadata": {},
     "output_type": "execute_result"
    }
   ],
   "source": [
    "peopleanalyticsdata.__path__"
   ]
  },
  {
   "cell_type": "code",
   "execution_count": 24,
   "id": "a048e3d7",
   "metadata": {},
   "outputs": [
    {
     "ename": "ImportError",
     "evalue": "cannot import name 'managers' from 'peopleanalyticsdata' (/home/jovyan/git/peopleanalytics-python/peopleanalyticsdata/__init__.py)",
     "output_type": "error",
     "traceback": [
      "\u001b[0;31m---------------------------------------------------------------------------\u001b[0m",
      "\u001b[0;31mImportError\u001b[0m                               Traceback (most recent call last)",
      "\u001b[0;32m<ipython-input-24-ac2b2e94d030>\u001b[0m in \u001b[0;36m<module>\u001b[0;34m\u001b[0m\n\u001b[0;32m----> 1\u001b[0;31m \u001b[0;32mfrom\u001b[0m \u001b[0mpeopleanalyticsdata\u001b[0m \u001b[0;32mimport\u001b[0m \u001b[0mcharity_donation\u001b[0m\u001b[0;34m,\u001b[0m \u001b[0memployee_survey\u001b[0m\u001b[0;34m,\u001b[0m \u001b[0mmanagers\u001b[0m\u001b[0;34m\u001b[0m\u001b[0;34m\u001b[0m\u001b[0m\n\u001b[0m",
      "\u001b[0;31mImportError\u001b[0m: cannot import name 'managers' from 'peopleanalyticsdata' (/home/jovyan/git/peopleanalytics-python/peopleanalyticsdata/__init__.py)"
     ]
    }
   ],
   "source": [
    "from peopleanalyticsdata import charity_donation, employee_survey, managers"
   ]
  },
  {
   "cell_type": "code",
   "execution_count": 25,
   "id": "a7241417",
   "metadata": {},
   "outputs": [
    {
     "data": {
      "text/html": [
       "<div>\n",
       "<style scoped>\n",
       "    .dataframe tbody tr th:only-of-type {\n",
       "        vertical-align: middle;\n",
       "    }\n",
       "\n",
       "    .dataframe tbody tr th {\n",
       "        vertical-align: top;\n",
       "    }\n",
       "\n",
       "    .dataframe thead th {\n",
       "        text-align: right;\n",
       "    }\n",
       "</style>\n",
       "<table border=\"1\" class=\"dataframe\">\n",
       "  <thead>\n",
       "    <tr style=\"text-align: right;\">\n",
       "      <th></th>\n",
       "      <th>n_donations</th>\n",
       "      <th>total_donations</th>\n",
       "      <th>time_donating</th>\n",
       "      <th>recent_donation</th>\n",
       "      <th>last_donation</th>\n",
       "      <th>gender</th>\n",
       "      <th>reside</th>\n",
       "      <th>age</th>\n",
       "    </tr>\n",
       "  </thead>\n",
       "  <tbody>\n",
       "    <tr>\n",
       "      <th>0</th>\n",
       "      <td>1</td>\n",
       "      <td>310</td>\n",
       "      <td>15</td>\n",
       "      <td>0</td>\n",
       "      <td>4</td>\n",
       "      <td>M</td>\n",
       "      <td>Urban Domestic</td>\n",
       "      <td>29</td>\n",
       "    </tr>\n",
       "    <tr>\n",
       "      <th>1</th>\n",
       "      <td>3</td>\n",
       "      <td>1200</td>\n",
       "      <td>9</td>\n",
       "      <td>0</td>\n",
       "      <td>6</td>\n",
       "      <td>M</td>\n",
       "      <td>Rural Domestic</td>\n",
       "      <td>41</td>\n",
       "    </tr>\n",
       "    <tr>\n",
       "      <th>2</th>\n",
       "      <td>3</td>\n",
       "      <td>1200</td>\n",
       "      <td>27</td>\n",
       "      <td>1</td>\n",
       "      <td>11</td>\n",
       "      <td>M</td>\n",
       "      <td>Urban Domestic</td>\n",
       "      <td>77</td>\n",
       "    </tr>\n",
       "    <tr>\n",
       "      <th>3</th>\n",
       "      <td>2</td>\n",
       "      <td>760</td>\n",
       "      <td>6</td>\n",
       "      <td>1</td>\n",
       "      <td>1</td>\n",
       "      <td>F</td>\n",
       "      <td>Overseas</td>\n",
       "      <td>66</td>\n",
       "    </tr>\n",
       "    <tr>\n",
       "      <th>4</th>\n",
       "      <td>6</td>\n",
       "      <td>2540</td>\n",
       "      <td>27</td>\n",
       "      <td>0</td>\n",
       "      <td>11</td>\n",
       "      <td>M</td>\n",
       "      <td>Urban Domestic</td>\n",
       "      <td>26</td>\n",
       "    </tr>\n",
       "    <tr>\n",
       "      <th>...</th>\n",
       "      <td>...</td>\n",
       "      <td>...</td>\n",
       "      <td>...</td>\n",
       "      <td>...</td>\n",
       "      <td>...</td>\n",
       "      <td>...</td>\n",
       "      <td>...</td>\n",
       "      <td>...</td>\n",
       "    </tr>\n",
       "    <tr>\n",
       "      <th>349</th>\n",
       "      <td>1</td>\n",
       "      <td>310</td>\n",
       "      <td>7</td>\n",
       "      <td>0</td>\n",
       "      <td>11</td>\n",
       "      <td>M</td>\n",
       "      <td>Rural Domestic</td>\n",
       "      <td>47</td>\n",
       "    </tr>\n",
       "    <tr>\n",
       "      <th>350</th>\n",
       "      <td>16</td>\n",
       "      <td>7010</td>\n",
       "      <td>52</td>\n",
       "      <td>0</td>\n",
       "      <td>11</td>\n",
       "      <td>M</td>\n",
       "      <td>Rural Domestic</td>\n",
       "      <td>25</td>\n",
       "    </tr>\n",
       "    <tr>\n",
       "      <th>351</th>\n",
       "      <td>6</td>\n",
       "      <td>2540</td>\n",
       "      <td>26</td>\n",
       "      <td>0</td>\n",
       "      <td>6</td>\n",
       "      <td>F</td>\n",
       "      <td>Rural Domestic</td>\n",
       "      <td>28</td>\n",
       "    </tr>\n",
       "    <tr>\n",
       "      <th>352</th>\n",
       "      <td>6</td>\n",
       "      <td>2540</td>\n",
       "      <td>17</td>\n",
       "      <td>0</td>\n",
       "      <td>11</td>\n",
       "      <td>F</td>\n",
       "      <td>Urban Domestic</td>\n",
       "      <td>40</td>\n",
       "    </tr>\n",
       "    <tr>\n",
       "      <th>353</th>\n",
       "      <td>4</td>\n",
       "      <td>1650</td>\n",
       "      <td>19</td>\n",
       "      <td>1</td>\n",
       "      <td>11</td>\n",
       "      <td>F</td>\n",
       "      <td>Urban Domestic</td>\n",
       "      <td>68</td>\n",
       "    </tr>\n",
       "  </tbody>\n",
       "</table>\n",
       "<p>354 rows × 8 columns</p>\n",
       "</div>"
      ],
      "text/plain": [
       "     n_donations  total_donations  time_donating  recent_donation  \\\n",
       "0              1              310             15                0   \n",
       "1              3             1200              9                0   \n",
       "2              3             1200             27                1   \n",
       "3              2              760              6                1   \n",
       "4              6             2540             27                0   \n",
       "..           ...              ...            ...              ...   \n",
       "349            1              310              7                0   \n",
       "350           16             7010             52                0   \n",
       "351            6             2540             26                0   \n",
       "352            6             2540             17                0   \n",
       "353            4             1650             19                1   \n",
       "\n",
       "     last_donation gender          reside  age  \n",
       "0                4      M  Urban Domestic   29  \n",
       "1                6      M  Rural Domestic   41  \n",
       "2               11      M  Urban Domestic   77  \n",
       "3                1      F        Overseas   66  \n",
       "4               11      M  Urban Domestic   26  \n",
       "..             ...    ...             ...  ...  \n",
       "349             11      M  Rural Domestic   47  \n",
       "350             11      M  Rural Domestic   25  \n",
       "351              6      F  Rural Domestic   28  \n",
       "352             11      F  Urban Domestic   40  \n",
       "353             11      F  Urban Domestic   68  \n",
       "\n",
       "[354 rows x 8 columns]"
      ]
     },
     "execution_count": 25,
     "metadata": {},
     "output_type": "execute_result"
    }
   ],
   "source": [
    "charity_donation()"
   ]
  },
  {
   "cell_type": "code",
   "execution_count": null,
   "id": "fa853140",
   "metadata": {},
   "outputs": [],
   "source": []
  },
  {
   "cell_type": "code",
   "execution_count": null,
   "id": "d2d34b07",
   "metadata": {},
   "outputs": [],
   "source": []
  }
 ],
 "metadata": {
  "kernelspec": {
   "display_name": "Python 3",
   "language": "python",
   "name": "python3"
  },
  "language_info": {
   "codemirror_mode": {
    "name": "ipython",
    "version": 3
   },
   "file_extension": ".py",
   "mimetype": "text/x-python",
   "name": "python",
   "nbconvert_exporter": "python",
   "pygments_lexer": "ipython3",
   "version": "3.8.5"
  }
 },
 "nbformat": 4,
 "nbformat_minor": 5
}
