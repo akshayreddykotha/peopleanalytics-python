{
 "cells": [
  {
   "cell_type": "code",
   "execution_count": 8,
   "id": "tight-stylus",
   "metadata": {},
   "outputs": [],
   "source": [
    "# Load People Analytics data in Python\n",
    "# Data source: https://github.com/keithmcnulty/peopleanalytics-regression-book/tree/master/data\n",
    "\n",
    "import pandas as pd\n",
    "\n",
    "def get_pad(sets=['charity_donation','employee_survey','health_insurance',\n",
    "                  'job_retention','managers','politics_survey','salespeople',\n",
    "                  'soccer','sociological_data','speed_dating','ugtests'],\n",
    "            verbose=False):\n",
    "  \n",
    "  data = {}\n",
    "\n",
    "  for set in sets:\n",
    "    domain = 'https://raw.githubusercontent.com/'\n",
    "    location = 'keithmcnulty/peopleanalytics-regression-book/master/data/'\n",
    "    data[set] = pd.read_csv('{}{}{}.csv'.format(domain, location, set))\n",
    "  \n",
    "  if verbose:\n",
    "    for set in sets:\n",
    "      print('First five observations of {}.csv'.format(set))\n",
    "      print(data[set].head())\n",
    "      print('\\n\\n')\n",
    "\n",
    "  return(data)"
   ]
  },
  {
   "cell_type": "code",
   "execution_count": 9,
   "id": "waiting-mirror",
   "metadata": {},
   "outputs": [
    {
     "name": "stdout",
     "output_type": "stream",
     "text": [
      "<class 'dict'>\n"
     ]
    }
   ],
   "source": [
    "print(type(get_pad()))"
   ]
  },
  {
   "cell_type": "code",
   "execution_count": 10,
   "id": "cosmetic-minutes",
   "metadata": {},
   "outputs": [
    {
     "name": "stdout",
     "output_type": "stream",
     "text": [
      "<class 'pandas.core.frame.DataFrame'>\n",
      "RangeIndex: 975 entries, 0 to 974\n",
      "Data columns (total 4 columns):\n",
      " #   Column  Non-Null Count  Dtype\n",
      "---  ------  --------------  -----\n",
      " 0   Yr1     975 non-null    int64\n",
      " 1   Yr2     975 non-null    int64\n",
      " 2   Yr3     975 non-null    int64\n",
      " 3   Final   975 non-null    int64\n",
      "dtypes: int64(4)\n",
      "memory usage: 30.6 KB\n"
     ]
    }
   ],
   "source": [
    "get_pad()['ugtests'].info()"
   ]
  },
  {
   "cell_type": "code",
   "execution_count": 11,
   "id": "changed-brother",
   "metadata": {},
   "outputs": [
    {
     "data": {
      "text/plain": [
       "<module 'pytest' from '/home/jovyan/.rsm-msba/lib/python3.8/site-packages/pytest/__init__.py'>"
      ]
     },
     "execution_count": 11,
     "metadata": {},
     "output_type": "execute_result"
    }
   ],
   "source": [
    "import pytest\n",
    "pytest"
   ]
  },
  {
   "cell_type": "markdown",
   "id": "painted-works",
   "metadata": {},
   "source": [
    "https://kiwidamien.github.io/making-a-python-package-vi-including-data-files.html\n",
    "\n",
    "https://widdowquinn.github.io/coding/update-pypi-package/"
   ]
  },
  {
   "cell_type": "code",
   "execution_count": 14,
   "id": "changing-effectiveness",
   "metadata": {},
   "outputs": [
    {
     "ename": "NameError",
     "evalue": "name 'python' is not defined",
     "output_type": "error",
     "traceback": [
      "\u001b[0;31m---------------------------------------------------------------------------\u001b[0m",
      "\u001b[0;31mNameError\u001b[0m                                 Traceback (most recent call last)",
      "\u001b[0;32m<ipython-input-14-078ec89cc48a>\u001b[0m in \u001b[0;36m<module>\u001b[0;34m\u001b[0m\n\u001b[0;32m----> 1\u001b[0;31m \u001b[0mprint\u001b[0m\u001b[0;34m(\u001b[0m\u001b[0mpython\u001b[0m\u001b[0;34m.\u001b[0m\u001b[0m__version__\u001b[0m\u001b[0;34m)\u001b[0m\u001b[0;34m\u001b[0m\u001b[0;34m\u001b[0m\u001b[0m\n\u001b[0m",
      "\u001b[0;31mNameError\u001b[0m: name 'python' is not defined"
     ]
    }
   ],
   "source": [
    "print(python.__version__)"
   ]
  },
  {
   "cell_type": "code",
   "execution_count": 12,
   "id": "described-socket",
   "metadata": {},
   "outputs": [],
   "source": [
    "import peopleanalyticsdata"
   ]
  },
  {
   "cell_type": "code",
   "execution_count": 13,
   "id": "frequent-server",
   "metadata": {},
   "outputs": [
    {
     "name": "stdout",
     "output_type": "stream",
     "text": [
      "0.1.0\n"
     ]
    }
   ],
   "source": [
    "print(peopleanalyticsdata.__version__)"
   ]
  },
  {
   "cell_type": "code",
   "execution_count": 7,
   "id": "swiss-break",
   "metadata": {},
   "outputs": [
    {
     "ename": "ImportError",
     "evalue": "cannot import name 'managers' from 'peopleanalyticsdata' (/home/jovyan/git/peopleanalytics-python/peopleanalyticsdata/__init__.py)",
     "output_type": "error",
     "traceback": [
      "\u001b[0;31m---------------------------------------------------------------------------\u001b[0m",
      "\u001b[0;31mImportError\u001b[0m                               Traceback (most recent call last)",
      "\u001b[0;32m<ipython-input-7-ac2b2e94d030>\u001b[0m in \u001b[0;36m<module>\u001b[0;34m\u001b[0m\n\u001b[0;32m----> 1\u001b[0;31m \u001b[0;32mfrom\u001b[0m \u001b[0mpeopleanalyticsdata\u001b[0m \u001b[0;32mimport\u001b[0m \u001b[0mcharity_donation\u001b[0m\u001b[0;34m,\u001b[0m \u001b[0memployee_survey\u001b[0m\u001b[0;34m,\u001b[0m \u001b[0mmanagers\u001b[0m\u001b[0;34m\u001b[0m\u001b[0;34m\u001b[0m\u001b[0m\n\u001b[0m",
      "\u001b[0;31mImportError\u001b[0m: cannot import name 'managers' from 'peopleanalyticsdata' (/home/jovyan/git/peopleanalytics-python/peopleanalyticsdata/__init__.py)"
     ]
    }
   ],
   "source": [
    "from peopleanalyticsdata import charity_donation, employee_survey, managers"
   ]
  },
  {
   "cell_type": "code",
   "execution_count": null,
   "id": "outdoor-berkeley",
   "metadata": {},
   "outputs": [],
   "source": [
    "charity_donation()"
   ]
  }
 ],
 "metadata": {
  "kernelspec": {
   "display_name": "Python 3",
   "language": "python",
   "name": "python3"
  },
  "language_info": {
   "codemirror_mode": {
    "name": "ipython",
    "version": 3
   },
   "file_extension": ".py",
   "mimetype": "text/x-python",
   "name": "python",
   "nbconvert_exporter": "python",
   "pygments_lexer": "ipython3",
   "version": "3.8.5"
  }
 },
 "nbformat": 4,
 "nbformat_minor": 5
}
